{
 "cells": [
  {
   "cell_type": "markdown",
   "id": "5dbce743",
   "metadata": {},
   "source": [
    "# Retrieval of arXiv Paper details\n",
    "\n",
    "This notebook retrieve arXiv paper details, including:\n",
    "- title\n",
    "- authors\n",
    "\n",
    "It outputs the above results as Markdown format, which can be copied into Google Doc."
   ]
  },
  {
   "cell_type": "code",
   "execution_count": 5,
   "id": "0ce2f77b-cbed-44d2-81ea-99ec8e813cdf",
   "metadata": {
    "tags": []
   },
   "outputs": [],
   "source": [
    "paper_ids = [\n",
    "    \"2309.07197\", \n",
    "    \"2309.07075\", \n",
    "    \"2309.07022\", \n",
    "    \"2309.06061\", \n",
    "    \"2309.06779\", \n",
    "    \"2309.04274\", \n",
    "    \"2309.01866\"\n",
    "]"
   ]
  },
  {
   "cell_type": "code",
   "execution_count": 6,
   "id": "0e5f5ca2-3d15-4131-bca1-29330c0343ab",
   "metadata": {},
   "outputs": [],
   "source": [
    "import arxiv"
   ]
  },
  {
   "cell_type": "code",
   "execution_count": 7,
   "id": "ea5bdb22-d40f-44fe-ad2b-f6693d5c3a43",
   "metadata": {
    "tags": []
   },
   "outputs": [],
   "source": [
    "search = arxiv.Search(\n",
    "    id_list=paper_ids\n",
    ")\n",
    "final_results = []\n",
    "for result in search.results():\n",
    "\n",
    "    # print(result.title)\n",
    "    # print(result.pdf_url)    \n",
    "    # print(result.authors)\n",
    "    \n",
    "    authors_string = \"by \"\n",
    "    for author in result.authors:\n",
    "        \n",
    "        if author == result.authors[-2]:\n",
    "            authors_string = authors_string + str(author) + \" and \"\n",
    "        elif author == result.authors[-1]:\n",
    "            authors_string = authors_string + str(author)\n",
    "        else:\n",
    "            authors_string = authors_string + str(author) + \", \"\n",
    "                \n",
    "    google_doc_text = \"- [\" + result.title + \"](\" + result.pdf_url + \") \" + authors_string\n",
    "    # print(google_doc_text)\n",
    "    final_results.append(google_doc_text)\n",
    "        "
   ]
  },
  {
   "cell_type": "code",
   "execution_count": 8,
   "id": "0c12d62f",
   "metadata": {},
   "outputs": [
    {
     "data": {
      "text/markdown": [
       "- [Mitigating Adversarial Attacks in Federated Learning with Trusted Execution Environments](http://arxiv.org/pdf/2309.07197v1) by Simon Queyrut, Valerio Schiavoni and Pascal Felber"
      ],
      "text/plain": [
       "<IPython.core.display.Markdown object>"
      ]
     },
     "metadata": {},
     "output_type": "display_data"
    },
    {
     "data": {
      "text/markdown": [
       "- [Chained-DP: Can We Recycle Privacy Budget?](http://arxiv.org/pdf/2309.07075v3) by Jingyi Li, Guangjing Huang, Liekang Zeng, Lin Chen and Xu Chen"
      ],
      "text/plain": [
       "<IPython.core.display.Markdown object>"
      ]
     },
     "metadata": {},
     "output_type": "display_data"
    },
    {
     "data": {
      "text/markdown": [
       "- [Cryptography: Against AI and QAI Odds](http://arxiv.org/pdf/2309.07022v1) by Sheetal Harris, Hassan Jalil Hadi and Umer Zukaib"
      ],
      "text/plain": [
       "<IPython.core.display.Markdown object>"
      ]
     },
     "metadata": {},
     "output_type": "display_data"
    },
    {
     "data": {
      "text/markdown": [
       "- [Verifiable Fairness: Privacy-preserving Computation of Fairness for Machine Learning Systems](http://arxiv.org/pdf/2309.06061v1) by Ehsan Toreini, Maryam Mehrnezhad and Aad van Moorsel"
      ],
      "text/plain": [
       "<IPython.core.display.Markdown object>"
      ]
     },
     "metadata": {},
     "output_type": "display_data"
    },
    {
     "data": {
      "text/markdown": [
       "- [ZKROWNN: Zero Knowledge Right of Ownership for Neural Networks](http://arxiv.org/pdf/2309.06779v1) by Nojan Sheybani, Zahra Ghodsi, Ritvik Kapila and Farinaz Koushanfar"
      ],
      "text/plain": [
       "<IPython.core.display.Markdown object>"
      ]
     },
     "metadata": {},
     "output_type": "display_data"
    },
    {
     "data": {
      "text/markdown": [
       "- [Data-Flow-Based Normalization Generation Algorithm of R1CS for Zero-Knowledge Proof](http://arxiv.org/pdf/2309.04274v2) by Chenhao Shi, Hao Chen, Ruibang Liu and Guoqiang Li"
      ],
      "text/plain": [
       "<IPython.core.display.Markdown object>"
      ]
     },
     "metadata": {},
     "output_type": "display_data"
    },
    {
     "data": {
      "text/markdown": [
       "- [Efficient Query-Based Attack against ML-Based Android Malware Detection under Zero Knowledge Setting](http://arxiv.org/pdf/2309.01866v2) by Ping He, Yifan Xia, Xuhong Zhang and Shouling Ji"
      ],
      "text/plain": [
       "<IPython.core.display.Markdown object>"
      ]
     },
     "metadata": {},
     "output_type": "display_data"
    }
   ],
   "source": [
    "from IPython.display import display, Markdown, Latex\n",
    "\n",
    "for result in final_results:\n",
    "    display(Markdown(result))"
   ]
  }
 ],
 "metadata": {
  "kernelspec": {
   "display_name": "Python 3 (ipykernel)",
   "language": "python",
   "name": "python3"
  },
  "language_info": {
   "codemirror_mode": {
    "name": "ipython",
    "version": 3
   },
   "file_extension": ".py",
   "mimetype": "text/x-python",
   "name": "python",
   "nbconvert_exporter": "python",
   "pygments_lexer": "ipython3",
   "version": "3.11.5"
  }
 },
 "nbformat": 4,
 "nbformat_minor": 5
}
